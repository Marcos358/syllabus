{
 "cells": [
  {
   "cell_type": "markdown",
   "id": "6aa602b8-1400-4b62-94b3-55f7cfbd9a80",
   "metadata": {},
   "source": [
    "# lendo corpora"
   ]
  },
  {
   "cell_type": "code",
   "execution_count": 10,
   "id": "f89e2e85-71b7-4825-8da3-c6fc8d276c33",
   "metadata": {},
   "outputs": [],
   "source": [
    "import nltk"
   ]
  },
  {
   "cell_type": "code",
   "execution_count": 92,
   "id": "4656b1d4-bd10-4d41-b2b3-40ec46fd24d5",
   "metadata": {},
   "outputs": [
    {
     "data": {
      "text/plain": [
       "FileSystemPathPointer('/Users/ar/nltk_data/corpora/mac_morpho')"
      ]
     },
     "execution_count": 92,
     "metadata": {},
     "output_type": "execute_result"
    }
   ],
   "source": [
    "# http://nilc.icmc.usp.br/macmorpho/\n",
    "from nltk.corpus import mac_morpho\n",
    "# print(nltk.corpus.mac_morpho.readme())\n",
    "mac_morpho.root"
   ]
  },
  {
   "cell_type": "code",
   "execution_count": 90,
   "id": "e2d794a6-f580-4102-8348-e381a2f51b36",
   "metadata": {},
   "outputs": [
    {
     "name": "stdout",
     "output_type": "stream",
     "text": [
      "Displaying 30 of 69 matches:\n",
      "ciou um processo de renovação jamais visto A média de renovação de os cafeeiros\n",
      " ) Para Alves , o Plano Real , antes visto com otimismo por os agricultores , a\n",
      "e arrombamento \" Alguém tinha de ter visto o ladrão \" , reclama Os deputados Jo\n",
      "rminação \" de Hitler Um outro Lula , visto por os adversários políticos como in\n",
      "o a os militares , e funcionou Por o visto , Fernando Henrique e sua equipe não\n",
      " - De a Reportagem Local \" Não tenho visto nenhuma reação negativa \" A frase de\n",
      " ) Em essas cidades , o eclipse será visto respectivamente a partir de as 9h41 \n",
      " \" O projeto foi idealizado para ser visto por estudantes \" , disse Lucio Costa\n",
      "s outros dois cúmplices , Ángles foi visto por a polícia de Valência em uma est\n",
      " direito , W. L. S. , 16 , disse ter visto Mauro do Leme atirou contra o ônibus\n",
      "pilo o outro fim-de-semana , ele foi visto passeando sorridente por a praia de \n",
      " sorteio Só atende quem quiser tirar visto para viajar para os EUA Ontem por a \n",
      " ou setembro Antes de se conseguir o visto , é necessário uma entrevista em a e\n",
      " os EUA Quem for aprovado receberá o visto entre 1º de outubro de 1994 e 30 de \n",
      " que o carro seja coberto , para ser visto apenas por pessoas interessadas Um r\n",
      "a Cada vez mais , o governo já não é visto como a fonte primária de o crescimen\n",
      "almente a população de baixa renda , visto que os produtos essenciais pesam mai\n",
      "orada oposicionista A primeira foi a Visto de os estertores de o 2º Reinado , o\n",
      "não é o Plano FHC , que passou a ser visto apenas como um \" plano de passagem \"\n",
      " a indústria brasileira não pode ser visto como uma clara reversão de o quadro \n",
      "enciária ; Pedras industrializadas ; Visto de o advogado ; Estagiário - remuner\n",
      " a resposta a a consulta nº 005/91 ) Visto de o advogado Desde a vigência de o \n",
      "o estatuto de a OAB ( 04/07/94 ) , o visto de advogado tornou se obrigatório em\n",
      "e a o grau de desconfiança com que é visto o país por o investidor estrangeiro \n",
      " fazer falta em o dia-a-dia Deve ser visto como uma alternativa \" que tem risco\n",
      "e jogar de o São Paulo ? Sim , tenho visto o time por a televisão Acho que não \n",
      "osso \" , de a TV Globo \" Nunca tinha visto nada tão engraçado em a minha vida \"\n",
      "ustríaco em a 2ª fase ; Juiz diz ter visto garrafa ferir goleiro Editoria : Esp\n",
      " Kispest , de a Hungria Juiz diz ter visto garrafa ferir goleiro O sueco Leif S\n",
      "crosoft lança esta semana , deve ser visto É superficial em excesso , e delicio\n"
     ]
    }
   ],
   "source": [
    "mac = nltk.Text(nltk.corpus.mac_morpho.words())\n",
    "# mac[1:10]\n",
    "mac.concordance('visto', lines=30)"
   ]
  },
  {
   "cell_type": "code",
   "execution_count": 91,
   "id": "3f7436f2-ed62-4f95-83db-19097fae610c",
   "metadata": {},
   "outputs": [
    {
     "data": {
      "text/plain": [
       "'Jersei_N\\natinge_V\\nmédia_N\\nde_PREP\\nCr$_CUR\\n1,4_NUM\\nmilhão_N\\nem_PREP|+\\na_ART\\nvenda_N\\nde_PREP|+\\na_ART\\nPinhal_NPROP\\nem_PREP\\nSão_NPROP\\nPaulo_NPROP\\n._.\\nPrograme_V\\nsua_PROADJ\\nviagem_N\\na_PREP|+\\na_ART\\nExposiçã'"
      ]
     },
     "execution_count": 91,
     "metadata": {},
     "output_type": "execute_result"
    }
   ],
   "source": [
    "mac_morpho.raw()[:200]"
   ]
  },
  {
   "cell_type": "code",
   "execution_count": 67,
   "id": "03c2f97f-34a0-4fed-9e27-49be6b404846",
   "metadata": {},
   "outputs": [
    {
     "data": {
      "text/plain": [
       "[('Jersei', 'atinge'),\n",
       " ('atinge', 'média'),\n",
       " ('média', 'de'),\n",
       " ('de', 'Cr$'),\n",
       " ('Cr$', '1,4'),\n",
       " ('1,4', 'milhão'),\n",
       " ('milhão', 'em'),\n",
       " ('em', 'a'),\n",
       " ('a', 'venda'),\n",
       " ('venda', 'de')]"
      ]
     },
     "execution_count": 67,
     "metadata": {},
     "output_type": "execute_result"
    }
   ],
   "source": [
    "list(nltk.bigrams(mac))[:10]"
   ]
  },
  {
   "cell_type": "code",
   "execution_count": 65,
   "id": "f5d79893-5b1a-4f74-ad5f-4f5fff3832c5",
   "metadata": {},
   "outputs": [
    {
     "name": "stdout",
     "output_type": "stream",
     "text": [
      "São Paulo; Esporte PáGINA; Mais PáGINA; Ilustrada PáGINA; Reportagem\n",
      "Local; Nova York; Fernando Henrique; Estados Unidos; este ano; ano\n",
      "passado; pode ser; Dinheiro PáGINA; disse que; por exemplo; pelo\n",
      "menos; Mais! PáGINA; semana passada; Banco Central; acordo com;\n",
      "Henrique Cardoso\n"
     ]
    }
   ],
   "source": [
    "mac.collocations()"
   ]
  },
  {
   "cell_type": "code",
   "execution_count": 55,
   "id": "4253ad15-ac2e-46d2-ad83-4cd32e4753cf",
   "metadata": {},
   "outputs": [
    {
     "data": {
      "image/png": "[encoded data removed]",
      "text/plain": [
       "<Figure size 432x288 with 1 Axes>"
      ]
     },
     "metadata": {
      "needs_background": "light"
     },
     "output_type": "display_data"
    },
    {
     "data": {
      "text/plain": [
       "['km²',\n",
       " 'totalizou',\n",
       " '6,79',\n",
       " 'Ambrósio',\n",
       " 'gaúchas',\n",
       " '8.847/94',\n",
       " 'fiscalista',\n",
       " '8.022/90',\n",
       " 'modificava']"
      ]
     },
     "execution_count": 55,
     "metadata": {},
     "output_type": "execute_result"
    }
   ],
   "source": [
    "fdmac = nltk.FreqDist(mac)\n",
    "fdmac.plot(50, cumulative=True)\n",
    "fdmac.hapaxes()[1:10] # menos frequentes"
   ]
  },
  {
   "cell_type": "code",
   "execution_count": 23,
   "id": "2d153ecf-0adc-4043-b8f2-517c70442869",
   "metadata": {},
   "outputs": [
    {
     "data": {
      "text/plain": [
       "['10761.txt',\n",
       " '10846.txt',\n",
       " '10855.txt',\n",
       " '10902.txt',\n",
       " '10940.txt',\n",
       " '11083.txt',\n",
       " '11114.txt',\n",
       " '11137.txt',\n",
       " '11147.txt']"
      ]
     },
     "execution_count": 23,
     "metadata": {},
     "output_type": "execute_result"
    }
   ],
   "source": [
    "from nltk.corpus import PlaintextCorpusReader\n",
    "root = '/Users/ar/Sites/NLP-2021-2/syllabus/dhbb'\n",
    "dhbb = PlaintextCorpusReader(root, '.*')\n",
    "dhbb.fileids()[1:10]"
   ]
  },
  {
   "cell_type": "code",
   "execution_count": 100,
   "id": "51983e3e-dfa8-4fdd-a99e-367778512c03",
   "metadata": {},
   "outputs": [
    {
     "name": "stdout",
     "output_type": "stream",
     "text": [
      "Displaying 25 of 1076 matches:\n",
      " 1946 , o frade alemão Ulrico convidou - o a entrar para a ordem , levando - o \n",
      "ou - o a entrar para a ordem , levando - o para estudar no convento de Goiana (\n",
      " convento de Goiana ( PE ). Destacando - se nos estudos , foi designado para es\n",
      "rnacional , onde estudara . Doutorando - se em 1968 em direito civil na Univers\n",
      "a , desempenhou a função de assistente - geral e procurador - geral da ordem , \n",
      "ção de assistente - geral e procurador - geral da ordem , representando - a jun\n",
      "rador - geral da ordem , representando - a junto à Santa Sé . De volta ao Brasi\n",
      ". De volta ao Brasil em 1977 , radicou - se em Paracatu ( MG ), tornando - se d\n",
      "icou - se em Paracatu ( MG ), tornando - se dois anos mais tarde bispo da dioce\n",
      "e pelo papa Bento XVI . Dom José mudou - se para o convento em Camocim de São F\n",
      "olumbre . Comerciante , em 1996 tornou - se membro da Associação Comercial e In\n",
      "balhista ( PDT ). Nessa legenda elegeu - se vereador em Macapá em 2000 . Assumi\n",
      "são de Indústria e Comércio e foi vice - presidente da Mesa . Em 2001 - 2002 , \n",
      "oi vice - presidente da Mesa . Em 2001 - 2002 , representou a Câmara Municipal \n",
      "á , Santana e Oiapoque . E 2005 filiou - se ao Partido da Frente Liberal ( PFL \n",
      "andato em fevereiro de 2007 , tornando - se titular , terceiro e segundo vice -\n",
      "- se titular , terceiro e segundo vice - presidente da Comissão Permanente de A\n",
      "onal da nova legenda no Amapá . Tornou - se membro , também , da comissão execu\n",
      " março e maio de 2008 , exerceu a vice - liderança do partido na Câmara dos Dep\n",
      "mara dos Deputados . Em 2009 licenciou - se do mandato de deputado federal e as\n",
      " Cabral Bittencourt . Seu pai foi vice - governador e secretário de estado de G\n",
      "u também como engenheiro e responsável - técnico da construtora Bittencourt Ltd\n",
      "tins , de 1988 a 1990 . Em 1990 filiou - se ao Partido Democrata Cristão ( PDC \n",
      "ndo uma suplência . Em 1992 candidatou - se à prefeitura de Goiânia na legenda \n",
      "utado estadual , deixou o PDC e filiou - se ao Partido do Movimento Democrático\n"
     ]
    }
   ],
   "source": [
    "dhbb_words = nltk.Text(dhbb.words())\n",
    "dhbb_words.concordance('-')"
   ]
  },
  {
   "cell_type": "code",
   "execution_count": 56,
   "id": "bae5cca4-9f93-49a7-9b18-6730018dafc0",
   "metadata": {},
   "outputs": [
    {
     "data": {
      "image/png": "[encoded data removed]",
      "text/plain": [
       "<Figure size 432x288 with 1 Axes>"
      ]
     },
     "metadata": {
      "needs_background": "light"
     },
     "output_type": "display_data"
    },
    {
     "data": {
      "text/plain": [
       "['artesão',\n",
       " 'Antonina',\n",
       " 'pequeno',\n",
       " 'queria',\n",
       " 'coroinha',\n",
       " 'fabriqueta',\n",
       " 'ajudava',\n",
       " 'calçados',\n",
       " 'frade']"
      ]
     },
     "execution_count": 56,
     "metadata": {},
     "output_type": "execute_result"
    }
   ],
   "source": [
    "fdhbb = nltk.FreqDist(dhbb_words)\n",
    "fdhbb.plot(50, cumulative=True)\n",
    "fdhbb.hapaxes()[1:10] # menos frequentes"
   ]
  },
  {
   "cell_type": "code",
   "execution_count": 94,
   "id": "9e609c87-cf28-4d03-8fc7-e28702fc0c26",
   "metadata": {},
   "outputs": [
    {
     "data": {
      "text/plain": [
       "[('José', 'Cardoso'),\n",
       " ('Cardoso', 'Sobrinho'),\n",
       " ('Sobrinho', '»'),\n",
       " ('»', 'nasceu'),\n",
       " ('nasceu', 'em'),\n",
       " ('em', 'Caruaru'),\n",
       " ('Caruaru', '('),\n",
       " ('(', 'PE'),\n",
       " ('PE', ')'),\n",
       " (')', 'no'),\n",
       " ('no', 'dia'),\n",
       " ('dia', '30'),\n",
       " ('30', 'de'),\n",
       " ('de', 'junho'),\n",
       " ('junho', 'de'),\n",
       " ('de', '1933'),\n",
       " ('1933', ','),\n",
       " (',', 'filho'),\n",
       " ('filho', 'do')]"
      ]
     },
     "execution_count": 94,
     "metadata": {},
     "output_type": "execute_result"
    }
   ],
   "source": [
    "list(nltk.bigrams(dhbb_words))[1:20]"
   ]
  },
  {
   "cell_type": "code",
   "execution_count": 95,
   "id": "94e2d49b-ab1a-4b6f-81a6-920446e896ec",
   "metadata": {},
   "outputs": [
    {
     "name": "stdout",
     "output_type": "stream",
     "text": [
      "São Paulo; ano seguinte; deputado federal; dos Deputados; mesmo ano;\n",
      "quem teve; Distrito Federal; Câmara dos; Minas Gerais; Santa Catarina;\n",
      "com quem; Estado Novo; Era casado; foi eleito; deputado estadual; foi\n",
      "nomeado; casado com; Mato Grosso; Ato Institucional; Macedo Soares\n"
     ]
    }
   ],
   "source": [
    "# será que apenas 2-gram? Seria possivel obter sequencias de N tokens?\n",
    "dhbb_words.collocations()"
   ]
  },
  {
   "cell_type": "markdown",
   "id": "674d962a-797a-4a85-8ecb-21011ada2432",
   "metadata": {},
   "source": [
    "# gerador de texto aleatório"
   ]
  },
  {
   "cell_type": "code",
   "execution_count": 96,
   "id": "e2a1d185-ccdb-4494-a37e-2ba17925fb16",
   "metadata": {},
   "outputs": [
    {
     "data": {
      "text/plain": [
       "FreqDist({'seguinte': 112, ',': 68, '.': 18, 'de': 17, 'foi': 13, 'em': 8, 'a': 8, 'e': 7, 'anterior': 6, 'passou': 4, ...})"
      ]
     },
     "execution_count": 96,
     "metadata": {},
     "output_type": "execute_result"
    }
   ],
   "source": [
    "def generate_model(cfdist, word, num=15):\n",
    "    for i in range(num):\n",
    "        print(word, end=\" \")\n",
    "        word = cfdist[word].max()\n",
    "bigrams_dhbb = nltk.bigrams(dhbb_words)\n",
    "cfd_dhbb = nltk.ConditionalFreqDist(bigrams_dhbb)\n",
    "cfd_dhbb['ano']"
   ]
  },
  {
   "cell_type": "code",
   "execution_count": 98,
   "id": "ec1a4aa9-faa2-4dbb-aab0-4bcee3f78792",
   "metadata": {},
   "outputs": [
    {
     "name": "stdout",
     "output_type": "stream",
     "text": [
      "nasceu em fevereiro de Janeiro , em fevereiro de Janeiro , em fevereiro de Janeiro "
     ]
    }
   ],
   "source": [
    "generate_model(cfd_dhbb,'nasceu')"
   ]
  },
  {
   "cell_type": "code",
   "execution_count": null,
   "id": "5783e60d-099b-4743-bff2-18ff27677605",
   "metadata": {},
   "outputs": [],
   "source": []
  }
 ],
 "metadata": {
  "kernelspec": {
   "display_name": "Python 3 (ipykernel)",
   "language": "python",
   "name": "python3"
  },
  "language_info": {
   "codemirror_mode": {
    "name": "ipython",
    "version": 3
   },
   "file_extension": ".py",
   "mimetype": "text/x-python",
   "name": "python",
   "nbconvert_exporter": "python",
   "pygments_lexer": "ipython3",
   "version": "3.8.11"
  }
 },
 "nbformat": 4,
 "nbformat_minor": 5
}
